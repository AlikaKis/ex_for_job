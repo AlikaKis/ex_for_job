{
 "cells": [
  {
   "cell_type": "code",
   "execution_count": 37,
   "metadata": {},
   "outputs": [],
   "source": [
    "from pymongo import MongoClient\n",
    "import re\n",
    "client = MongoClient() \n",
    "mydatabase = client.Class\n",
    "mycollection = mydatabase.Students\n",
    "#mydatabase.mycollection.drop()"
   ]
  },
  {
   "cell_type": "code",
   "execution_count": 38,
   "metadata": {},
   "outputs": [
    {
     "data": {
      "text/plain": [
       "<pymongo.results.InsertManyResult at 0x11229af40>"
      ]
     },
     "execution_count": 38,
     "metadata": {},
     "output_type": "execute_result"
    }
   ],
   "source": [
    "students = [\n",
    "    {'name': 'Ann', 'age': 19, 'group': 'MP-20'}, \n",
    "    {'name': 'Fedor', 'age': 23, 'group':'EKT-41'}, \n",
    "    {'name': 'Lola', 'age': 21, 'group': 'ITC-23'},\n",
    "    {'name': 'Sara', 'age': 23,'group': 'ITC-42'},\n",
    "    {'name': 'Kate', 'age': 18,'group': 'MP-14'},\n",
    "    {'name': 'Ivan', 'age': 26,'group': 'MP-11m'}\n",
    "]\n",
    "mydatabase.mycollection.insert_many(students, ordered=False)"
   ]
  },
  {
   "cell_type": "code",
   "execution_count": 39,
   "metadata": {},
   "outputs": [
    {
     "name": "stdout",
     "output_type": "stream",
     "text": [
      "Бакалавры МП-факультета\n",
      "{'_id': ObjectId('5f89bb7f3727d32d47c3a304'), 'name': 'Ann', 'age': 19, 'group': 'MP-20'}\n",
      "{'_id': ObjectId('5f89bb7f3727d32d47c3a308'), 'name': 'Kate', 'age': 18, 'group': 'MP-14'}\n"
     ]
    }
   ],
   "source": [
    "#шаблон для поиска в базе только бакалавров МП-факультета\n",
    "pattern = r'\\bMP-\\d{2}\\b'\n",
    "find_things = mydatabase.mycollection.find({'group': re.compile(pattern)})\n",
    "print('Бакалавры МП-факультета')\n",
    "for thing in find_things:\n",
    "    print(thing)"
   ]
  },
  {
   "cell_type": "code",
   "execution_count": 41,
   "metadata": {},
   "outputs": [],
   "source": [
    "import requests\n",
    "\n",
    "with open('my_pics.jpg','wb') as target:\n",
    "    a = requests.post('https://diddlybop.ru/wp-content/uploads/2016/10/fotografii-dikoy-prirody_39.jpg')\n",
    "    target.write(a.content)"
   ]
  }
 ],
 "metadata": {
  "kernelspec": {
   "display_name": "Python 3",
   "language": "python",
   "name": "python3"
  },
  "language_info": {
   "codemirror_mode": {
    "name": "ipython",
    "version": 3
   },
   "file_extension": ".py",
   "mimetype": "text/x-python",
   "name": "python",
   "nbconvert_exporter": "python",
   "pygments_lexer": "ipython3",
   "version": "3.8.4"
  }
 },
 "nbformat": 4,
 "nbformat_minor": 4
}
